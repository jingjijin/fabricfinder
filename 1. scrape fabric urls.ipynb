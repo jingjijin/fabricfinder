{
 "cells": [
  {
   "cell_type": "code",
   "execution_count": 1,
   "metadata": {},
   "outputs": [],
   "source": [
    "import os\n",
    "import time\n",
    "from urllib.request import Request, urlopen\n",
    "from bs4 import BeautifulSoup\n",
    "import pandas as pd\n",
    "import requests"
   ]
  },
  {
   "cell_type": "code",
   "execution_count": 6,
   "metadata": {},
   "outputs": [],
   "source": [
    "# scrape image urls from fabrics.com website\n",
    "def scrape_image_urls(url, pages):\n",
    "    imgs = []\n",
    "    urls = []\n",
    "    links = []\n",
    "    for page in range(pages):\n",
    "        html = urlopen(url + str(page + 1))\n",
    "        soup = BeautifulSoup(html)\n",
    "        imgs += soup.findAll('div',{'class': 'product-item-image'})\n",
    "        time.sleep(1)\n",
    "    for img in imgs:\n",
    "        try: \n",
    "            urls.append(img.find('img')['src'])\n",
    "            links.append(img.find('a')['href'])\n",
    "        except: pass\n",
    "    return urls, links"
   ]
  },
  {
   "cell_type": "code",
   "execution_count": 10,
   "metadata": {},
   "outputs": [],
   "source": [
    "# scrape fabrics based on color\n",
    "colors = ['white','beige','pink','red','orange','gold','yellow','green','blue','purple','black','grey','brown','multi']\n",
    "urls = ['https://www.fabric.com/find?colorfamily=white&usage=pillows&page=',\n",
    "        'https://www.fabric.com/find?colorfamily=beige-or-creams,black-and-cream&usage=pillows&page=',\n",
    "        'https://www.fabric.com/find?colorfamily=brown-and-pink,pink,pink-and-green,pink-and-grey,pink-and-white&usage=pillows&page=',\n",
    "        'https://www.fabric.com/find?colorfamily=red,red-and-white,red-and-blue,black-and-red,red-and-green&usage=pillows&page=',\n",
    "        'https://www.fabric.com/find?colorfamily=orange,black-and-orange,orange-and-white&usage=pillows&page=',\n",
    "        'https://www.fabric.com/find?colorfamily=gold&usage=pillows&page=',\n",
    "        'https://www.fabric.com/find?colorfamily=yellow,yellow-and-white,grey-and-yellow&usage=pillows&page=',\n",
    "        'https://www.fabric.com/find?colorfamily=green,brown-and-green,green-and-white,pink-and-green,blue-and-green&usage=pillows&page=',\n",
    "        'https://www.fabric.com/find?colorfamily=blue,blue-and-white,blue-and-grey,blue-and-yellow,red-and-blue,blue-and-green,blue-and-black,brown-and-blue&usage=pillows&page=',\n",
    "        'https://www.fabric.com/find?colorfamily=purple,purple-and-white&usage=pillows&page=',\n",
    "        'https://www.fabric.com/find?colorfamily=black,black-and-grey&usage=pillows&page=',\n",
    "        'https://www.fabric.com/find?colorfamily=grey,grey-and-white&usage=pillows&page=',\n",
    "        'https://www.fabric.com/find?colorfamily=brown,brown-and-white&usage=pillows&page=',\n",
    "        'https://www.fabric.com/find?colorfamily=multi&usage=pillows&page='\n",
    "        ]\n",
    "pages = [19, 54, 9, 15, 8, 3, 10, 30, 62, 5, 6, 36, 24, 24]\n",
    "scrape_list = list(zip(colors, urls, pages))"
   ]
  },
  {
   "cell_type": "code",
   "execution_count": 7,
   "metadata": {},
   "outputs": [],
   "source": [
    "# more fabrics\n",
    "colors = ['abstract','floral','stripe','dot','plaids','multi']\n",
    "urls = ['https://www.fabric.com/apparel-fashion-fabric.aspx?fabric-pattern=abstract-or-geometric&page=',\n",
    "        'https://www.fabric.com/apparel-fashion-fabric.aspx?fabric-pattern=floral&page=',\n",
    "        'https://www.fabric.com/apparel-fashion-fabric.aspx?fabric-pattern=stripes&page=',\n",
    "        'https://www.fabric.com/fabric-pattern/polka-dots&page=',\n",
    "        'https://www.fabric.com/apparel-fashion-fabric.aspx?fabric-pattern=plaids-or-checks,argyle&page=',\n",
    "        'https://www.fabric.com/apparel-fashion-fabric.aspx?colorfamily=multi&usage=dress&page=']\n",
    "pages= [19,31,11,46,11,22]\n",
    "scrape_list = list(zip(colors, urls, pages))"
   ]
  },
  {
   "cell_type": "code",
   "execution_count": 9,
   "metadata": {},
   "outputs": [
    {
     "name": "stdout",
     "output_type": "stream",
     "text": [
      "abstract : 1378\n",
      "floral : 2291\n",
      "stripe : 815\n",
      "dot : 0\n",
      "plaids : 787\n",
      "multi : 1602\n"
     ]
    }
   ],
   "source": [
    "for f in scrape_list:\n",
    "    fabric_type = f[0]\n",
    "    url = f[1]\n",
    "    pages = f[2]\n",
    "    \n",
    "    urls, links = scrape_image_urls(url, pages)\n",
    "    pd.DataFrame(urls, links).reset_index().to_csv(fabric_type + '.csv')\n",
    "    print(fabric_type, ':', len(urls))"
   ]
  },
  {
   "cell_type": "code",
   "execution_count": 50,
   "metadata": {},
   "outputs": [],
   "source": [
    "# scrape image urls from wayfair\n",
    "def scrape_image_wayfair(url, pages):\n",
    "    imgs = []\n",
    "    urls = []\n",
    "    hdr = {'User-Agent': 'Mozilla/5.0'}\n",
    "    for page in range(pages):\n",
    "        req = Request(url + str(page+1),headers=hdr)\n",
    "        page = urlopen(req)\n",
    "        soup = BeautifulSoup(page)\n",
    "        imgs += soup.findAll('div',{'class': 'BrowseProductCard-imageWrap'})\n",
    "        time.sleep(1)\n",
    "    for img in imgs:\n",
    "        try: urls.append(img.find('img')['src'])\n",
    "        except: pass\n",
    "        \n",
    "    return urls"
   ]
  },
  {
   "cell_type": "code",
   "execution_count": 58,
   "metadata": {},
   "outputs": [],
   "source": [
    "url = 'https://www.wayfair.com/decor-pillows/sb0/throw-pillows-c417136.html?curpage='\n",
    "urls = scrape_image_wayfair(url, 200)\n",
    "wayfair = [url for url in urls if url[:4]!='data']\n",
    "wayfair_df = pd.DataFrame(wayfair)\n",
    "wayfair_df.to_csv('wayfair.csv')"
   ]
  }
 ],
 "metadata": {
  "kernelspec": {
   "display_name": "Python 3",
   "language": "python",
   "name": "python3"
  },
  "language_info": {
   "codemirror_mode": {
    "name": "ipython",
    "version": 3
   },
   "file_extension": ".py",
   "mimetype": "text/x-python",
   "name": "python",
   "nbconvert_exporter": "python",
   "pygments_lexer": "ipython3",
   "version": "3.7.3"
  }
 },
 "nbformat": 4,
 "nbformat_minor": 2
}
