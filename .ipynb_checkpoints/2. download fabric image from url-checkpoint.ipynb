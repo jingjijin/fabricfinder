{
 "cells": [
  {
   "cell_type": "code",
   "execution_count": 1,
   "metadata": {},
   "outputs": [],
   "source": [
    "# download all pictures based off of the url; csv file in working directory\n",
    "import os\n",
    "import time\n",
    "import pandas as pd\n",
    "import csv\n",
    "import requests\n",
    "import shutil"
   ]
  },
  {
   "cell_type": "code",
   "execution_count": 18,
   "metadata": {},
   "outputs": [
    {
     "name": "stdout",
     "output_type": "stream",
     "text": [
      "/Users/Jingji/Documents/GitHub/fabricfinder\n"
     ]
    }
   ],
   "source": [
    "# store working directory\n",
    "dir = os.getcwd()\n",
    "print(dir)"
   ]
  },
  {
   "cell_type": "code",
   "execution_count": 14,
   "metadata": {},
   "outputs": [],
   "source": [
    "# formate to creat dataframe with image url and textile cols\n",
    "\n",
    "def get_images(fabric_type, csv_file):\n",
    "    \n",
    "    \n",
    "    df = pd.read_csv(csv_file)\n",
    "    df['textile'] = fabric_type\n",
    "    df.drop('Unnamed: 0' ,axis=1, inplace=True)\n",
    "    df.columns = ['image_url','textile']\n",
    "    print(df.head())\n",
    "    print(df.shape)\n",
    "    \n",
    "    return df"
   ]
  },
  {
   "cell_type": "code",
   "execution_count": 15,
   "metadata": {
    "scrolled": true
   },
   "outputs": [
    {
     "name": "stdout",
     "output_type": "stream",
     "text": [
      "                                           image_url  textile\n",
      "0  https://images.fabric.com/images/200/200/BU-29...  fauxfur\n",
      "1  https://images.fabric.com/images/200/200/03174...  fauxfur\n",
      "2  https://images.fabric.com/images/200/200/BA-46...  fauxfur\n",
      "3  https://images.fabric.com/images/200/200/04124...  fauxfur\n",
      "4  https://images.fabric.com/images/200/200/04111...  fauxfur\n",
      "(250, 2)\n"
     ]
    }
   ],
   "source": [
    "fauxfur = get_images('fauxfur', 'fauxfur.csv')"
   ]
  },
  {
   "cell_type": "code",
   "execution_count": 16,
   "metadata": {},
   "outputs": [
    {
     "name": "stdout",
     "output_type": "stream",
     "text": [
      "https://images.fabric.com/images/200/200/BU-291.jpg\n",
      "<class 'str'>\n",
      "0\n"
     ]
    }
   ],
   "source": [
    "# test = fauxfur.iloc[0,0]\n",
    "# print(test)\n",
    "# print(type(test))\n",
    "# print(fauxfur.index.values[0])"
   ]
  },
  {
   "cell_type": "code",
   "execution_count": 17,
   "metadata": {},
   "outputs": [
    {
     "name": "stdout",
     "output_type": "stream",
     "text": [
      "['https://images.fabric.com/images/200/200/BU-291.jpg', 0]\n",
      "['https://images.fabric.com/images/200/200/0317410.jpg', 1]\n",
      "['https://images.fabric.com/images/200/200/BA-468.jpg', 2]\n",
      "['https://images.fabric.com/images/200/200/0412471.jpg', 3]\n",
      "['https://images.fabric.com/images/200/200/0411155.jpg', 4]\n"
     ]
    }
   ],
   "source": [
    "# see if it works\n",
    "\n",
    "for i in range(5):\n",
    "    current_url = fauxfur.iloc[i,0]\n",
    "    img_name = fauxfur.index.values[i]\n",
    "    print([current_url , img_name])"
   ]
  },
  {
   "cell_type": "code",
   "execution_count": 28,
   "metadata": {},
   "outputs": [
    {
     "name": "stdout",
     "output_type": "stream",
     "text": [
      "<class 'bytes'>\n"
     ]
    }
   ],
   "source": [
    "# download images from url; see if it works\n",
    "\n",
    "# for i in range(1):\n",
    "    \n",
    "#     current_url = fauxfur.iloc[i,0]\n",
    "#     img_name = fauxfur.index.values[i]\n",
    "#     result = requests.get(current_url)\n",
    "    \n",
    "#     if result.status_code == 200:\n",
    "#         image = result.raw.read(); print(type(image))\n",
    "#         new_dir = dir + '/fauxfur'\n",
    "#         open(os.path.join(new_dir),'wb').write(image)\n",
    " "
   ]
  },
  {
   "cell_type": "code",
   "execution_count": 32,
   "metadata": {},
   "outputs": [],
   "source": [
    "# url = fauxfur.iloc[i,0]\n",
    "# response = requests.get(url, stream=True)\n",
    "# with open(os.path.join(new_dir,'0.jpg'), 'wb') as out_file:\n",
    "#     shutil.copyfileobj(response.raw, out_file)\n",
    "# del response"
   ]
  },
  {
   "cell_type": "code",
   "execution_count": 58,
   "metadata": {},
   "outputs": [],
   "source": [
    "# download images from url and save in the category folder; need to create new folder first\n",
    "# https://stackoverflow.com/questions/13137817/how-to-download-image-using-requests\n",
    "\n",
    "def download_image(df, fabric_type, dir=dir):\n",
    "    \n",
    "    for i in range(df.shape[0]):\n",
    "        url = df.iloc[i,0]\n",
    "        response = requests.get(url, stream=True)\n",
    "        new_dir = dir + '/' + fabric_type + '/' + fabric_type + '_'\n",
    "        idx = str(df.index.values[i])\n",
    "        \n",
    "        with open(new_dir + idx + '.jpg', 'wb') as out_file:\n",
    "            shutil.copyfileobj(response.raw, out_file)\n",
    "        del response\n",
    "    print('Download completed.')"
   ]
  },
  {
   "cell_type": "code",
   "execution_count": 53,
   "metadata": {},
   "outputs": [],
   "source": [
    "download_image(fauxfur, 'fauxfur')"
   ]
  },
  {
   "cell_type": "code",
   "execution_count": 59,
   "metadata": {},
   "outputs": [
    {
     "name": "stdout",
     "output_type": "stream",
     "text": [
      "                                           image_url textile\n",
      "0  https://images.fabric.com/images/200/200/05400...  velvet\n",
      "1  https://images.fabric.com/images/200/200/UQ-26...  velvet\n",
      "2  https://images.fabric.com/images/200/200/UO-96...  velvet\n",
      "3  https://images.fabric.com/images/200/200/05836...  velvet\n",
      "4  https://images.fabric.com/images/200/200/UO-95...  velvet\n",
      "(1050, 2)\n",
      "Download completed.\n"
     ]
    }
   ],
   "source": [
    "velvet = get_images('velvet', 'velvet.csv')\n",
    "download_image(velvet, 'velvet')"
   ]
  },
  {
   "cell_type": "code",
   "execution_count": 60,
   "metadata": {},
   "outputs": [
    {
     "name": "stdout",
     "output_type": "stream",
     "text": [
      "                                           image_url textile\n",
      "0  https://images.fabric.com/images/200/200/05891...   linen\n",
      "1  https://images.fabric.com/images/200/200/05487...   linen\n",
      "2  https://images.fabric.com/images/200/200/UR-96...   linen\n",
      "3  https://images.fabric.com/images/200/200/04084...   linen\n",
      "4  https://images.fabric.com/images/200/200/05310...   linen\n",
      "(1050, 2)\n",
      "Download completed.\n"
     ]
    }
   ],
   "source": [
    "linen = get_images('linen','linen.csv')\n",
    "download_image(linen, 'linen')"
   ]
  },
  {
   "cell_type": "code",
   "execution_count": null,
   "metadata": {},
   "outputs": [],
   "source": []
  },
  {
   "cell_type": "code",
   "execution_count": null,
   "metadata": {},
   "outputs": [],
   "source": []
  },
  {
   "cell_type": "code",
   "execution_count": null,
   "metadata": {},
   "outputs": [],
   "source": []
  },
  {
   "cell_type": "code",
   "execution_count": null,
   "metadata": {},
   "outputs": [],
   "source": []
  }
 ],
 "metadata": {
  "kernelspec": {
   "display_name": "Python 3",
   "language": "python",
   "name": "python3"
  },
  "language_info": {
   "codemirror_mode": {
    "name": "ipython",
    "version": 3
   },
   "file_extension": ".py",
   "mimetype": "text/x-python",
   "name": "python",
   "nbconvert_exporter": "python",
   "pygments_lexer": "ipython3",
   "version": "3.7.3"
  }
 },
 "nbformat": 4,
 "nbformat_minor": 2
}
